{
 "cells": [
  {
   "cell_type": "markdown",
   "metadata": {},
   "source": [
    "## Example Usage for the ndx-holographic-stimulation"
   ]
  },
  {
   "cell_type": "code",
   "execution_count": 1,
   "metadata": {},
   "outputs": [],
   "source": [
    "\n",
    "import datetime\n",
    "import numpy as np\n",
    "from pynwb import NWBFile, NWBHDF5IO\n",
    "from ndx_holographic_stimulation import (\n",
    "    PatternedOptogeneticSeries,\n",
    "    PatternedOptogeneticStimulusSite,\n",
    "    OptogeneticStimulusPatternTable,\n",
    "    OptogeneticStimulusPattern,\n",
    "    SpiralScanning,\n",
    "    TemporalFocusing,\n",
    "    SpatialLightModulator,\n",
    "    LightSource,\n",
    ")\n",
    "from pynwb.ophys import PlaneSegmentation, ImageSegmentation, OpticalChannel"
   ]
  },
  {
   "cell_type": "markdown",
   "metadata": {},
   "source": []
  },
  {
   "cell_type": "code",
   "execution_count": 2,
   "metadata": {},
   "outputs": [],
   "source": [
    "nwbfile = NWBFile(\n",
    "    session_description=\"session_description\",\n",
    "    identifier=\"identifier\",\n",
    "    session_start_time=datetime.datetime.now(datetime.timezone.utc),\n",
    ")\n"
   ]
  },
  {
   "cell_type": "markdown",
   "metadata": {},
   "source": [
    "We need to define a `roi_table_region` in the imaging acquisition system, to link the holographic stimulus to a set of ROIs"
   ]
  },
  {
   "cell_type": "code",
   "execution_count": 3,
   "metadata": {},
   "outputs": [],
   "source": [
    "recording_device = nwbfile.create_device(\n",
    "    name=\"2P_microscope\",\n",
    "    description=\"My two-photon microscope\",\n",
    "    manufacturer=\"The best microscope manufacturer\",\n",
    ")\n",
    "\n",
    "optical_channel = OpticalChannel(\n",
    "    name=\"OpticalChannel\",\n",
    "    description=\"an optical channel\",\n",
    "    emission_lambda=500.0,\n",
    ")\n",
    "imaging_plane = nwbfile.create_imaging_plane(\n",
    "    name=\"ImagingPlane\",\n",
    "    optical_channel=optical_channel,\n",
    "    imaging_rate=30.0,\n",
    "    description=\"a very interesting part of the brain\",\n",
    "    device=recording_device,\n",
    "    excitation_lambda=600.0,\n",
    "    indicator=\"GFP\",\n",
    "    location=\"V1\",\n",
    "    grid_spacing=[0.01, 0.01],\n",
    "    grid_spacing_unit=\"meters\",\n",
    "    origin_coords=[1.0, 2.0, 3.0],\n",
    "    origin_coords_unit=\"meters\",\n",
    ")\n",
    "\n",
    "n_rois = 2\n",
    "plane_segmentation = PlaneSegmentation(\n",
    "    name=\"PlaneSegmentation\",\n",
    "    description=\"output from segmenting my favorite imaging plane\",\n",
    "    imaging_plane=imaging_plane,\n",
    ")\n",
    "for _ in range(n_rois):\n",
    "    plane_segmentation.add_roi(image_mask=np.zeros((10, 10)))\n",
    "\n",
    "if nwbfile is not None:\n",
    "    if \"ophys\" not in nwbfile.processing:\n",
    "        nwbfile.create_processing_module(\"ophys\", \"ophys\")\n",
    "    nwbfile.processing[\"ophys\"].add(plane_segmentation)\n",
    "\n",
    "roi_table_region = plane_segmentation.create_roi_table_region(\n",
    "    region=[0, 1], description=\"the first of two ROIs\"\n",
    ")\n"
   ]
  },
  {
   "cell_type": "markdown",
   "metadata": {},
   "source": [
    "Define optical devices that provide the stimulus"
   ]
  },
  {
   "cell_type": "code",
   "execution_count": 4,
   "metadata": {},
   "outputs": [],
   "source": [
    "# metadata for spiatial light modulator\n",
    "slm_name = \"spatial_light_modulator\"\n",
    "slm_description = \"Generic description for the slm\"\n",
    "slm_model = \"model\"\n",
    "slm_resolution = 1.0\n",
    "\n",
    "spatial_light_modulator = SpatialLightModulator(\n",
    "    name=slm_name,\n",
    "    description=slm_description,\n",
    "    model=slm_model,\n",
    "    resolution=slm_resolution,\n",
    ")\n",
    "nwbfile.add_device(spatial_light_modulator)\n",
    "\n",
    "# metadata for the light source\n",
    "light_source_name = \"light_source\"\n",
    "light_source_description = \"Generic description for the laser\"\n",
    "light_source_manifacturer = \"manifacturer\"\n",
    "stimulation_wavelength = 600.0\n",
    "filter_description = \"600/50\"\n",
    "power = 8.0\n",
    "intensity = 100.0\n",
    "exposure_time = 1e-6\n",
    "pulse_rate = 1 / exposure_time\n",
    "\n",
    "light_source = LightSource(\n",
    "    name=light_source_name,\n",
    "    stimulation_wavelength=stimulation_wavelength,  # nm\n",
    "    description=light_source_description,\n",
    "    filter_description=filter_description,\n",
    "    power=power,\n",
    "    intensity=intensity,\n",
    "    exposure_time=exposure_time,\n",
    "    pulse_rate=pulse_rate,\n",
    ")\n",
    "nwbfile.add_device(light_source)\n",
    "\n",
    "# metadata for the stimulating device\n",
    "stimulating_device = nwbfile.create_device(\n",
    "    name=\"device\",\n",
    "    description=\"Microsope used for optogenetic stimulation\",\n",
    ")"
   ]
  },
  {
   "cell_type": "markdown",
   "metadata": {},
   "source": [
    "Define stimulus patterns parameters and pattern table"
   ]
  },
  {
   "cell_type": "code",
   "execution_count": 5,
   "metadata": {},
   "outputs": [],
   "source": [
    "# metadata for  stimulus pattern\n",
    "pattern_name = \"generic_stimulus_pattern\"\n",
    "pattern_description = \"beam pattern\"\n",
    "duration = 10e-3\n",
    "number_of_stimulus_presentation = 10\n",
    "inter_stimulus_interval = 0.02\n",
    "# metadata for spiral scanning pattern\n",
    "spiral_scanning_name = \"spiral_scanning\"\n",
    "spiral_diameter = 15e-6\n",
    "spiral_height = 10e-6\n",
    "num_revolutions = 5\n",
    "# metadata for temporal focusing pattern\n",
    "temporal_focusing_name = \"temporal_focusing\"\n",
    "lateral_psf = \"9e-6 m ± 0.7e-6 m\"\n",
    "axial_psf = \"32e-6 m ± 1.6e-6 m\"\n",
    "\n",
    "spiral_scanning = SpiralScanning(\n",
    "    name=spiral_scanning_name,\n",
    "    diameter=spiral_diameter,\n",
    "    height=spiral_height,\n",
    "    number_of_revolutions=num_revolutions,\n",
    "    description=pattern_description,\n",
    "    duration=duration,\n",
    "    number_of_stimulus_presentation=number_of_stimulus_presentation,\n",
    "    inter_stimulus_interval=inter_stimulus_interval,\n",
    ")\n",
    "\n",
    "nwbfile.add_lab_meta_data(spiral_scanning)\n",
    "\n",
    "temporal_focusing = TemporalFocusing(\n",
    "    name=temporal_focusing_name,\n",
    "    description=pattern_description,\n",
    "    lateral_point_spread_function=lateral_psf,\n",
    "    axial_point_spread_function=axial_psf,\n",
    "    duration=duration,\n",
    "    number_of_stimulus_presentation=number_of_stimulus_presentation,\n",
    "    inter_stimulus_interval=inter_stimulus_interval,\n",
    ")\n",
    "\n",
    "nwbfile.add_lab_meta_data(temporal_focusing)\n",
    "\n",
    "generic_pattern = OptogeneticStimulusPattern(\n",
    "    name=pattern_name,\n",
    "    description=pattern_description,\n",
    "    duration=duration,\n",
    "    number_of_stimulus_presentation=number_of_stimulus_presentation,\n",
    "    inter_stimulus_interval=inter_stimulus_interval,\n",
    ")\n",
    "\n",
    "nwbfile.add_lab_meta_data(generic_pattern)\n",
    "\n",
    "stimulus_pattern_table = OptogeneticStimulusPatternTable(\n",
    "    name=\"stimulus_pattern_table\",\n",
    "    description=pattern_description,\n",
    ")\n",
    "stimulus_pattern_table.add_row(stimulus_pattern=generic_pattern)\n",
    "stimulus_pattern_table.add_row(stimulus_pattern=spiral_scanning)\n",
    "stimulus_pattern_table.add_row(stimulus_pattern=temporal_focusing)\n",
    "\n",
    "stimulus_pattern_ids = np.random.choice([0, 1, 2], size=[100, n_rois])\n"
   ]
  },
  {
   "cell_type": "markdown",
   "metadata": {},
   "source": [
    "Define stimulus site"
   ]
  },
  {
   "cell_type": "code",
   "execution_count": 6,
   "metadata": {},
   "outputs": [
    {
     "data": {
      "text/html": [
       "\n",
       "        <style>\n",
       "            .container-fields {\n",
       "                font-family: \"Open Sans\", Arial, sans-serif;\n",
       "            }\n",
       "            .container-fields .field-value {\n",
       "                color: #00788E;\n",
       "            }\n",
       "            .container-fields details > summary {\n",
       "                cursor: pointer;\n",
       "                display: list-item;\n",
       "            }\n",
       "            .container-fields details > summary:hover {\n",
       "                color: #0A6EAA;\n",
       "            }\n",
       "        </style>\n",
       "        \n",
       "        <script>\n",
       "            function copyToClipboard(text) {\n",
       "                navigator.clipboard.writeText(text).then(function() {\n",
       "                    console.log('Copied to clipboard: ' + text);\n",
       "                }, function(err) {\n",
       "                    console.error('Could not copy text: ', err);\n",
       "                });\n",
       "            }\n",
       "\n",
       "            document.addEventListener('DOMContentLoaded', function() {\n",
       "                let fieldKeys = document.querySelectorAll('.container-fields .field-key');\n",
       "                fieldKeys.forEach(function(fieldKey) {\n",
       "                    fieldKey.addEventListener('click', function() {\n",
       "                        let accessCode = fieldKey.getAttribute('title').replace('Access code: ', '');\n",
       "                        copyToClipboard(accessCode);\n",
       "                    });\n",
       "                });\n",
       "            });\n",
       "        </script>\n",
       "        <div class='container-wrap'><div class='container-header'><div class='xr-obj-type'><h3>site (PatternedOptogeneticStimulusSite)</h3></div></div><details><summary style=\"display: list-item; margin-left: 0px;\" class=\"container-fields field-key\" title=\".fields['device']\"><b>device</b></summary><div style=\"margin-left: 20px;\" class=\"container-fields\"><span class=\"field-key\" title=\".fields['device'].fields['description']\">description:</span> <span class=\"field-value\">Microsope used for optogenetic stimulation</span></div></details><div style=\"margin-left: 0px;\" class=\"container-fields\"><span class=\"field-key\" title=\".fields['description']\">description:</span> <span class=\"field-value\">This is an example Patterned site.</span></div><div style=\"margin-left: 0px;\" class=\"container-fields\"><span class=\"field-key\" title=\".fields['excitation_lambda']\">excitation_lambda:</span> <span class=\"field-value\">600.0</span></div><div style=\"margin-left: 0px;\" class=\"container-fields\"><span class=\"field-key\" title=\".fields['location']\">location:</span> <span class=\"field-value\">VISrl</span></div><div style=\"margin-left: 0px;\" class=\"container-fields\"><span class=\"field-key\" title=\".fields['effector']\">effector:</span> <span class=\"field-value\">ChR2</span></div></div>"
      ],
      "text/plain": [
       "site abc.PatternedOptogeneticStimulusSite at 0x140462189599568\n",
       "Fields:\n",
       "  description: This is an example Patterned site.\n",
       "  device: device pynwb.device.Device at 0x140462188596480\n",
       "Fields:\n",
       "  description: Microsope used for optogenetic stimulation\n",
       "\n",
       "  effector: ChR2\n",
       "  excitation_lambda: 600.0\n",
       "  location: VISrl"
      ]
     },
     "execution_count": 6,
     "metadata": {},
     "output_type": "execute_result"
    }
   ],
   "source": [
    "# metadata for Patterned stimulus site\n",
    "site_name = \"site\"\n",
    "site_description = \"This is an example Patterned site.\"\n",
    "effector = \"ChR2\"\n",
    "location = \"VISrl\"\n",
    "\n",
    "stim_site = PatternedOptogeneticStimulusSite(\n",
    "    name=site_name,\n",
    "    device=stimulating_device,\n",
    "    description=site_description,\n",
    "    excitation_lambda=stimulation_wavelength,  # nm\n",
    "    effector=effector,\n",
    "    location=location,\n",
    ")\n",
    "nwbfile.add_ogen_site(stim_site)"
   ]
  },
  {
   "cell_type": "markdown",
   "metadata": {},
   "source": [
    "Define the stimulus sequence on the ROIs previously defined in the imaging frame coordinates "
   ]
  },
  {
   "cell_type": "code",
   "execution_count": 7,
   "metadata": {},
   "outputs": [],
   "source": [
    "# metadata for Patterned series\n",
    "series_name = \"PatternedOptogeneticSeries\"\n",
    "series_description = \"Patterned stimulus on 2 rois\"\n",
    "unit = \"watts\"\n",
    "data = np.random.rand(100, n_rois)  # ntime x nroi\n",
    "timestamps = np.linspace(0, 10, num=100)  # a timestamp for every frame\n",
    "\n",
    "photostimulation = PatternedOptogeneticSeries(\n",
    "    name=series_name,\n",
    "    description=series_description,\n",
    "    data=data,\n",
    "    unit=unit,\n",
    "    timestamps=timestamps,\n",
    "    rois=roi_table_region,\n",
    "    stimulus_pattern_ids=stimulus_pattern_ids,\n",
    "    stimulus_pattern_table=stimulus_pattern_table,\n",
    "    site=stim_site,\n",
    "    device=stimulating_device,\n",
    "    light_source=light_source,\n",
    "    spatial_light_modulator=spatial_light_modulator,\n",
    ")\n",
    "\n",
    "nwbfile.add_stimulus(photostimulation)\n"
   ]
  },
  {
   "cell_type": "markdown",
   "metadata": {},
   "source": [
    "Write and read the NWB File"
   ]
  },
  {
   "cell_type": "code",
   "execution_count": 8,
   "metadata": {},
   "outputs": [
    {
     "name": "stderr",
     "output_type": "stream",
     "text": [
      "/home/amtra/miniconda3/envs/ndx_hologhraphic_env/lib/python3.9/site-packages/hdmf/build/objectmapper.py:260: DtypeConversionWarning: Spec 'PatternedOptogeneticSeries/stimulus_pattern_ids': Value with data type int64 is being converted to data type uint64 (min specification: uint32).\n",
      "  warnings.warn(full_warning_msg, DtypeConversionWarning)\n"
     ]
    }
   ],
   "source": [
    "\n",
    "nwbfile_path = \"test_photostimulation_nwb.nwb\"\n",
    "with NWBHDF5IO(nwbfile_path, mode=\"w\") as io:\n",
    "    io.write(nwbfile)\n",
    "\n",
    "with NWBHDF5IO(nwbfile_path, mode=\"r\") as io:\n",
    "    nwbfile_in = io.read()"
   ]
  },
  {
   "cell_type": "code",
   "execution_count": 9,
   "metadata": {},
   "outputs": [
    {
     "data": {
      "text/html": [
       "<div>\n",
       "<style scoped>\n",
       "    .dataframe tbody tr th:only-of-type {\n",
       "        vertical-align: middle;\n",
       "    }\n",
       "\n",
       "    .dataframe tbody tr th {\n",
       "        vertical-align: top;\n",
       "    }\n",
       "\n",
       "    .dataframe thead th {\n",
       "        text-align: right;\n",
       "    }\n",
       "</style>\n",
       "<table border=\"1\" class=\"dataframe\">\n",
       "  <thead>\n",
       "    <tr style=\"text-align: right;\">\n",
       "      <th></th>\n",
       "      <th>stimulus_pattern</th>\n",
       "    </tr>\n",
       "    <tr>\n",
       "      <th>id</th>\n",
       "      <th></th>\n",
       "    </tr>\n",
       "  </thead>\n",
       "  <tbody>\n",
       "    <tr>\n",
       "      <th>0</th>\n",
       "      <td>generic_stimulus_pattern abc.OptogeneticStimul...</td>\n",
       "    </tr>\n",
       "  </tbody>\n",
       "</table>\n",
       "</div>"
      ],
      "text/plain": [
       "                                     stimulus_pattern\n",
       "id                                                   \n",
       "0   generic_stimulus_pattern abc.OptogeneticStimul..."
      ]
     },
     "execution_count": 9,
     "metadata": {},
     "output_type": "execute_result"
    }
   ],
   "source": [
    "nwbfile.stimulus[\"PatternedOptogeneticSeries\"].stimulus_pattern_table[0]\n"
   ]
  },
  {
   "cell_type": "code",
   "execution_count": 10,
   "metadata": {},
   "outputs": [
    {
     "ename": "RuntimeError",
     "evalue": "Unable to synchronously get dataspace (invalid dataset identifier)",
     "output_type": "error",
     "traceback": [
      "\u001b[0;31m---------------------------------------------------------------------------\u001b[0m",
      "\u001b[0;31mRuntimeError\u001b[0m                              Traceback (most recent call last)",
      "\u001b[1;32m/home/amtra/CatalystNeuro/ndx-holographic-stimulation/example_usage.ipynb Cell 18\u001b[0m line \u001b[0;36m1\n\u001b[0;32m----> <a href='vscode-notebook-cell:/home/amtra/CatalystNeuro/ndx-holographic-stimulation/example_usage.ipynb#W2sZmlsZQ%3D%3D?line=0'>1</a>\u001b[0m nwbfile_in\u001b[39m.\u001b[39;49mstimulus[\u001b[39m\"\u001b[39;49m\u001b[39mPatternedOptogeneticSeries\u001b[39;49m\u001b[39m\"\u001b[39;49m]\u001b[39m.\u001b[39;49mstimulus_pattern_table[\u001b[39m0\u001b[39;49m]\n",
      "File \u001b[0;32m~/miniconda3/envs/ndx_hologhraphic_env/lib/python3.9/site-packages/hdmf/common/table.py:927\u001b[0m, in \u001b[0;36mDynamicTable.__getitem__\u001b[0;34m(self, key)\u001b[0m\n\u001b[1;32m    926\u001b[0m \u001b[39mdef\u001b[39;00m \u001b[39m__getitem__\u001b[39m(\u001b[39mself\u001b[39m, key):\n\u001b[0;32m--> 927\u001b[0m     ret \u001b[39m=\u001b[39m \u001b[39mself\u001b[39;49m\u001b[39m.\u001b[39;49mget(key)\n\u001b[1;32m    928\u001b[0m     \u001b[39mif\u001b[39;00m ret \u001b[39mis\u001b[39;00m \u001b[39mNone\u001b[39;00m:\n\u001b[1;32m    929\u001b[0m         \u001b[39mraise\u001b[39;00m \u001b[39mKeyError\u001b[39;00m(key)\n",
      "File \u001b[0;32m~/miniconda3/envs/ndx_hologhraphic_env/lib/python3.9/site-packages/hdmf/common/table.py:985\u001b[0m, in \u001b[0;36mDynamicTable.get\u001b[0;34m(self, key, default, df, index, **kwargs)\u001b[0m\n\u001b[1;32m    981\u001b[0m         \u001b[39mreturn\u001b[39;00m default\n\u001b[1;32m    982\u001b[0m \u001b[39melse\u001b[39;00m:\n\u001b[1;32m    983\u001b[0m     \u001b[39m# index by int, list, np.ndarray, or slice -->\u001b[39;00m\n\u001b[1;32m    984\u001b[0m     \u001b[39m# return pandas Dataframe or lists consisting of one or more rows\u001b[39;00m\n\u001b[0;32m--> 985\u001b[0m     sel \u001b[39m=\u001b[39m \u001b[39mself\u001b[39;49m\u001b[39m.\u001b[39;49m__get_selection_as_dict(key, df, index, \u001b[39m*\u001b[39;49m\u001b[39m*\u001b[39;49mkwargs)\n\u001b[1;32m    986\u001b[0m     \u001b[39mif\u001b[39;00m df:\n\u001b[1;32m    987\u001b[0m         \u001b[39m# reformat objects to fit into a pandas DataFrame\u001b[39;00m\n\u001b[1;32m    988\u001b[0m         \u001b[39mif\u001b[39;00m np\u001b[39m.\u001b[39misscalar(key):\n",
      "File \u001b[0;32m~/miniconda3/envs/ndx_hologhraphic_env/lib/python3.9/site-packages/hdmf/common/table.py:1013\u001b[0m, in \u001b[0;36mDynamicTable.__get_selection_as_dict\u001b[0;34m(self, arg, df, index, exclude, **kwargs)\u001b[0m\n\u001b[1;32m   1010\u001b[0m ret \u001b[39m=\u001b[39m OrderedDict()\n\u001b[1;32m   1011\u001b[0m \u001b[39mtry\u001b[39;00m:\n\u001b[1;32m   1012\u001b[0m     \u001b[39m# index with a python slice or single int to select one or multiple rows\u001b[39;00m\n\u001b[0;32m-> 1013\u001b[0m     ret[\u001b[39m'\u001b[39m\u001b[39mid\u001b[39m\u001b[39m'\u001b[39m] \u001b[39m=\u001b[39m \u001b[39mself\u001b[39;49m\u001b[39m.\u001b[39;49mid[arg]\n\u001b[1;32m   1014\u001b[0m     \u001b[39mfor\u001b[39;00m name \u001b[39min\u001b[39;00m \u001b[39mself\u001b[39m\u001b[39m.\u001b[39mcolnames:\n\u001b[1;32m   1015\u001b[0m         \u001b[39mif\u001b[39;00m name \u001b[39min\u001b[39;00m exclude:\n",
      "File \u001b[0;32m~/miniconda3/envs/ndx_hologhraphic_env/lib/python3.9/site-packages/hdmf/container.py:807\u001b[0m, in \u001b[0;36mData.__getitem__\u001b[0;34m(self, args)\u001b[0m\n\u001b[1;32m    806\u001b[0m \u001b[39mdef\u001b[39;00m \u001b[39m__getitem__\u001b[39m(\u001b[39mself\u001b[39m, args):\n\u001b[0;32m--> 807\u001b[0m     \u001b[39mreturn\u001b[39;00m \u001b[39mself\u001b[39;49m\u001b[39m.\u001b[39;49mget(args)\n",
      "File \u001b[0;32m~/miniconda3/envs/ndx_hologhraphic_env/lib/python3.9/site-packages/hdmf/container.py:815\u001b[0m, in \u001b[0;36mData.get\u001b[0;34m(self, args)\u001b[0m\n\u001b[1;32m    812\u001b[0m \u001b[39mif\u001b[39;00m \u001b[39misinstance\u001b[39m(\u001b[39mself\u001b[39m\u001b[39m.\u001b[39mdata, h5py\u001b[39m.\u001b[39mDataset) \u001b[39mand\u001b[39;00m \u001b[39misinstance\u001b[39m(args, np\u001b[39m.\u001b[39mndarray):\n\u001b[1;32m    813\u001b[0m     \u001b[39m# This is needed for h5py 2.9 compatibility\u001b[39;00m\n\u001b[1;32m    814\u001b[0m     args \u001b[39m=\u001b[39m args\u001b[39m.\u001b[39mtolist()\n\u001b[0;32m--> 815\u001b[0m \u001b[39mreturn\u001b[39;00m \u001b[39mself\u001b[39;49m\u001b[39m.\u001b[39;49mdata[args]\n",
      "File \u001b[0;32mh5py/_objects.pyx:54\u001b[0m, in \u001b[0;36mh5py._objects.with_phil.wrapper\u001b[0;34m()\u001b[0m\n",
      "File \u001b[0;32mh5py/_objects.pyx:55\u001b[0m, in \u001b[0;36mh5py._objects.with_phil.wrapper\u001b[0;34m()\u001b[0m\n",
      "File \u001b[0;32m~/.local/lib/python3.9/site-packages/h5py/_hl/dataset.py:756\u001b[0m, in \u001b[0;36mDataset.__getitem__\u001b[0;34m(self, args, new_dtype)\u001b[0m\n\u001b[1;32m    744\u001b[0m \u001b[39m\u001b[39m\u001b[39m\"\"\" Read a slice from the HDF5 dataset.\u001b[39;00m\n\u001b[1;32m    745\u001b[0m \n\u001b[1;32m    746\u001b[0m \u001b[39mTakes slices and recarray-style field names (more than one is\u001b[39;00m\n\u001b[0;32m   (...)\u001b[0m\n\u001b[1;32m    752\u001b[0m \u001b[39m* Boolean \"mask\" array indexing\u001b[39;00m\n\u001b[1;32m    753\u001b[0m \u001b[39m\"\"\"\u001b[39;00m\n\u001b[1;32m    754\u001b[0m args \u001b[39m=\u001b[39m args \u001b[39mif\u001b[39;00m \u001b[39misinstance\u001b[39m(args, \u001b[39mtuple\u001b[39m) \u001b[39melse\u001b[39;00m (args,)\n\u001b[0;32m--> 756\u001b[0m \u001b[39mif\u001b[39;00m \u001b[39mself\u001b[39;49m\u001b[39m.\u001b[39;49m_fast_read_ok \u001b[39mand\u001b[39;00m (new_dtype \u001b[39mis\u001b[39;00m \u001b[39mNone\u001b[39;00m):\n\u001b[1;32m    757\u001b[0m     \u001b[39mtry\u001b[39;00m:\n\u001b[1;32m    758\u001b[0m         \u001b[39mreturn\u001b[39;00m \u001b[39mself\u001b[39m\u001b[39m.\u001b[39m_fast_reader\u001b[39m.\u001b[39mread(args)\n",
      "File \u001b[0;32m~/.local/lib/python3.9/site-packages/h5py/_hl/base.py:536\u001b[0m, in \u001b[0;36mcached_property.__get__\u001b[0;34m(self, obj, cls)\u001b[0m\n\u001b[1;32m    533\u001b[0m \u001b[39mif\u001b[39;00m obj \u001b[39mis\u001b[39;00m \u001b[39mNone\u001b[39;00m:\n\u001b[1;32m    534\u001b[0m     \u001b[39mreturn\u001b[39;00m \u001b[39mself\u001b[39m\n\u001b[0;32m--> 536\u001b[0m value \u001b[39m=\u001b[39m obj\u001b[39m.\u001b[39m\u001b[39m__dict__\u001b[39m[\u001b[39mself\u001b[39m\u001b[39m.\u001b[39mfunc\u001b[39m.\u001b[39m\u001b[39m__name__\u001b[39m] \u001b[39m=\u001b[39m \u001b[39mself\u001b[39;49m\u001b[39m.\u001b[39;49mfunc(obj)\n\u001b[1;32m    537\u001b[0m \u001b[39mreturn\u001b[39;00m value\n",
      "File \u001b[0;32m~/.local/lib/python3.9/site-packages/h5py/_hl/dataset.py:738\u001b[0m, in \u001b[0;36mDataset._fast_read_ok\u001b[0;34m(self)\u001b[0m\n\u001b[1;32m    734\u001b[0m \u001b[39m@cached_property\u001b[39m\n\u001b[1;32m    735\u001b[0m \u001b[39mdef\u001b[39;00m \u001b[39m_fast_read_ok\u001b[39m(\u001b[39mself\u001b[39m):\n\u001b[1;32m    736\u001b[0m \u001b[39m    \u001b[39m\u001b[39m\"\"\"Is this dataset suitable for simple reading\"\"\"\u001b[39;00m\n\u001b[1;32m    737\u001b[0m     \u001b[39mreturn\u001b[39;00m (\n\u001b[0;32m--> 738\u001b[0m         \u001b[39mself\u001b[39;49m\u001b[39m.\u001b[39;49m_extent_type \u001b[39m==\u001b[39m h5s\u001b[39m.\u001b[39mSIMPLE\n\u001b[1;32m    739\u001b[0m         \u001b[39mand\u001b[39;00m \u001b[39misinstance\u001b[39m(\u001b[39mself\u001b[39m\u001b[39m.\u001b[39mid\u001b[39m.\u001b[39mget_type(), (h5t\u001b[39m.\u001b[39mTypeIntegerID, h5t\u001b[39m.\u001b[39mTypeFloatID))\n\u001b[1;32m    740\u001b[0m     )\n",
      "File \u001b[0;32m~/.local/lib/python3.9/site-packages/h5py/_hl/base.py:536\u001b[0m, in \u001b[0;36mcached_property.__get__\u001b[0;34m(self, obj, cls)\u001b[0m\n\u001b[1;32m    533\u001b[0m \u001b[39mif\u001b[39;00m obj \u001b[39mis\u001b[39;00m \u001b[39mNone\u001b[39;00m:\n\u001b[1;32m    534\u001b[0m     \u001b[39mreturn\u001b[39;00m \u001b[39mself\u001b[39m\n\u001b[0;32m--> 536\u001b[0m value \u001b[39m=\u001b[39m obj\u001b[39m.\u001b[39m\u001b[39m__dict__\u001b[39m[\u001b[39mself\u001b[39m\u001b[39m.\u001b[39mfunc\u001b[39m.\u001b[39m\u001b[39m__name__\u001b[39m] \u001b[39m=\u001b[39m \u001b[39mself\u001b[39;49m\u001b[39m.\u001b[39;49mfunc(obj)\n\u001b[1;32m    537\u001b[0m \u001b[39mreturn\u001b[39;00m value\n",
      "File \u001b[0;32mh5py/_objects.pyx:54\u001b[0m, in \u001b[0;36mh5py._objects.with_phil.wrapper\u001b[0;34m()\u001b[0m\n",
      "File \u001b[0;32mh5py/_objects.pyx:55\u001b[0m, in \u001b[0;36mh5py._objects.with_phil.wrapper\u001b[0;34m()\u001b[0m\n",
      "File \u001b[0;32m~/.local/lib/python3.9/site-packages/h5py/_hl/dataset.py:629\u001b[0m, in \u001b[0;36mDataset._extent_type\u001b[0;34m(self)\u001b[0m\n\u001b[1;32m    625\u001b[0m \u001b[39m@cached_property\u001b[39m\n\u001b[1;32m    626\u001b[0m \u001b[39m@with_phil\u001b[39m\n\u001b[1;32m    627\u001b[0m \u001b[39mdef\u001b[39;00m \u001b[39m_extent_type\u001b[39m(\u001b[39mself\u001b[39m):\n\u001b[1;32m    628\u001b[0m \u001b[39m    \u001b[39m\u001b[39m\"\"\"Get extent type for this dataset - SIMPLE, SCALAR or NULL\"\"\"\u001b[39;00m\n\u001b[0;32m--> 629\u001b[0m     \u001b[39mreturn\u001b[39;00m \u001b[39mself\u001b[39;49m\u001b[39m.\u001b[39;49mid\u001b[39m.\u001b[39;49mget_space()\u001b[39m.\u001b[39mget_simple_extent_type()\n",
      "File \u001b[0;32mh5py/_objects.pyx:54\u001b[0m, in \u001b[0;36mh5py._objects.with_phil.wrapper\u001b[0;34m()\u001b[0m\n",
      "File \u001b[0;32mh5py/_objects.pyx:55\u001b[0m, in \u001b[0;36mh5py._objects.with_phil.wrapper\u001b[0;34m()\u001b[0m\n",
      "File \u001b[0;32mh5py/h5d.pyx:349\u001b[0m, in \u001b[0;36mh5py.h5d.DatasetID.get_space\u001b[0;34m()\u001b[0m\n",
      "\u001b[0;31mRuntimeError\u001b[0m: Unable to synchronously get dataspace (invalid dataset identifier)"
     ]
    }
   ],
   "source": [
    "nwbfile_in.stimulus[\"PatternedOptogeneticSeries\"].stimulus_pattern_table[0]\n"
   ]
  }
 ],
 "metadata": {
  "kernelspec": {
   "display_name": "ndx_hologhraphic_env",
   "language": "python",
   "name": "python3"
  },
  "language_info": {
   "codemirror_mode": {
    "name": "ipython",
    "version": 3
   },
   "file_extension": ".py",
   "mimetype": "text/x-python",
   "name": "python",
   "nbconvert_exporter": "python",
   "pygments_lexer": "ipython3",
   "version": "3.9.0"
  }
 },
 "nbformat": 4,
 "nbformat_minor": 2
}
